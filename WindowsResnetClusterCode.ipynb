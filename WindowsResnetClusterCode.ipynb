{
 "cells": [
  {
   "cell_type": "code",
   "execution_count": null,
   "metadata": {},
   "outputs": [],
   "source": [
    "import tensorflow as tf\n",
    "from tensorflow.keras.utils import normalize\n",
    "import os\n",
    "import cv2\n",
    "from PIL import Image\n",
    "import numpy as np\n",
    "from matplotlib import pyplot as plt\n",
    "from sklearn.preprocessing import MinMaxScaler\n",
    "from keras.optimizers import Adam\n",
    "import glob\n",
    "\n",
    "from tensorflow.keras.applications import ResNet50\n",
    "from tensorflow.keras.layers import Conv2D, Conv2DTranspose, Concatenate\n",
    "from tensorflow.keras.models import Model\n",
    "from sklearn.model_selection import train_test_split\n",
    "from sklearn.model_selection import KFold\n",
    "from keras.preprocessing.image import ImageDataGenerator\n",
    "from pathlib import Path\n",
    "\n",
    "image_names = glob.glob(r\"c:\\Users\\richch\\Desktop\\ModSOCPristineTiffs\\SOC\\*.tif\")\n",
    "#returns list of files or folders that matches the path specified in the pathname argument\n",
    "# print(image_names)\n",
    "num_images = len(os.listdir(r\"c:\\Users\\richch\\Desktop\\ModSOCPristineTiffs\\SOC\"))\n",
    "#print(num_images)\n",
    "\n",
    "image_names.sort()\n",
    "image_names_subset = image_names[0:num_images]\n",
    "images = [cv2.imread(img, 0) for img in image_names_subset]\n",
    "x_test = np.array(images)"
   ]
  },
  {
   "cell_type": "code",
   "execution_count": null,
   "metadata": {},
   "outputs": [],
   "source": [
    "# We isolate one image from the array \n",
    "im = x_test[100, :, :]\n",
    "plt.figure(figsize=(5,5))\n",
    "plt.imshow(im, cmap='gray')\n",
    "plt.show()"
   ]
  },
  {
   "cell_type": "code",
   "execution_count": null,
   "metadata": {},
   "outputs": [],
   "source": [
    "# This section loads the model\n",
    "from keras.models import load_model\n",
    "model_path = \"c:\\\\Users\\\\richch\\\\Desktop\\\\VsCode\\\\SavedModels\\\\testEpoches.hdf5\"\n",
    "mymodel = load_model(model_path)\n",
    "\n",
    "from keras.models import load_model\n",
    "model = load_model(r\"c:\\Users\\richch\\Desktop\\VsCode\\SavedModels\\testEpoches.hdf5\", compile=False)"
   ]
  },
  {
   "cell_type": "code",
   "execution_count": null,
   "metadata": {},
   "outputs": [],
   "source": [
    "# We want to infer the model \n",
    "# im_for_infer = np.zeros((1, 128, 128, 1))\n",
    "# im_for_infer[0, :, :, 0] = im\n",
    "\n",
    "\n",
    "print(f\"image dimensions: {im.shape}\")\n",
    "im_expanded = np.expand_dims(im, axis=-1)\n",
    "im_expanded = np.expand_dims(im_expanded, axis=0)\n",
    "print(f\"image expanded dimensions: {im_expanded.shape}\")\n",
    "\n",
    "im_seg = model.predict(im_expanded)"
   ]
  },
  {
   "cell_type": "code",
   "execution_count": null,
   "metadata": {},
   "outputs": [],
   "source": [
    "im_toplot = im_seg[0, :, :, 0]\n",
    "plt.figure(figsize=(5,5))\n",
    "plt.imshow(im_toplot, cmap='gray')\n",
    "plt.show()"
   ]
  }
 ],
 "metadata": {
  "kernelspec": {
   "display_name": "Python 3",
   "language": "python",
   "name": "python3"
  },
  "language_info": {
   "name": "python",
   "version": "3.9.6"
  },
  "orig_nbformat": 4
 },
 "nbformat": 4,
 "nbformat_minor": 2
}
